{
  "nbformat": 4,
  "nbformat_minor": 0,
  "metadata": {
    "colab": {
      "name": "OccupancyGrid Exploration.ipynb",
      "provenance": [],
      "collapsed_sections": [],
      "toc_visible": true
    },
    "kernelspec": {
      "name": "python3",
      "display_name": "Python 3"
    }
  },
  "cells": [
    {
      "cell_type": "markdown",
      "metadata": {
        "id": "5-2ODPmzclVf",
        "colab_type": "text"
      },
      "source": [
        "## Map import & visualization"
      ]
    },
    {
      "cell_type": "markdown",
      "metadata": {
        "id": "c5k0J9fw3Y8j",
        "colab_type": "text"
      },
      "source": [
        "### Utils"
      ]
    },
    {
      "cell_type": "code",
      "metadata": {
        "id": "BM5jYVgkhLc7",
        "colab_type": "code",
        "colab": {}
      },
      "source": [
        "import os\n",
        "import numpy as np\n",
        "from matplotlib import pyplot as plt"
      ],
      "execution_count": 0,
      "outputs": []
    },
    {
      "cell_type": "code",
      "metadata": {
        "id": "-UbGABlPElXh",
        "colab_type": "code",
        "outputId": "fb374c9a-8aa7-4068-f507-fb95a583238f",
        "colab": {
          "resources": {
            "http://localhost:8080/nbextensions/google.colab/files.js": {
              "data": "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",
              "ok": true,
              "headers": [
                [
                  "content-type",
                  "application/javascript"
                ]
              ],
              "status": 200,
              "status_text": ""
            }
          },
          "base_uri": "https://localhost:8080/",
          "height": 194
        }
      },
      "source": [
        "from google.colab import files\n",
        "\n",
        "uploaded = files.upload()\n",
        "\n",
        "for fn in uploaded.keys():\n",
        "  print('User uploaded file \"{name}\" with length {length} bytes'.format(\n",
        "      name=fn, length=len(uploaded[fn])))"
      ],
      "execution_count": 0,
      "outputs": [
        {
          "output_type": "display_data",
          "data": {
            "text/html": [
              "\n",
              "     <input type=\"file\" id=\"files-cc533b48-397f-4bcd-8a8b-1ff1c36e1df5\" name=\"files[]\" multiple disabled />\n",
              "     <output id=\"result-cc533b48-397f-4bcd-8a8b-1ff1c36e1df5\">\n",
              "      Upload widget is only available when the cell has been executed in the\n",
              "      current browser session. Please rerun this cell to enable.\n",
              "      </output>\n",
              "      <script src=\"/nbextensions/google.colab/files.js\"></script> "
            ],
            "text/plain": [
              "<IPython.core.display.HTML object>"
            ]
          },
          "metadata": {
            "tags": []
          }
        },
        {
          "output_type": "stream",
          "text": [
            "Saving easy_1.npy to easy_1.npy\n",
            "Saving easy_2.npy to easy_2.npy\n",
            "Saving indoor_1.npy to indoor_1.npy\n",
            "User uploaded file \"easy_1.npy\" with length 1280128 bytes\n",
            "User uploaded file \"easy_2.npy\" with length 1280128 bytes\n",
            "User uploaded file \"indoor_1.npy\" with length 1280128 bytes\n"
          ],
          "name": "stdout"
        }
      ]
    },
    {
      "cell_type": "code",
      "metadata": {
        "id": "RKwbl9mHWois",
        "colab_type": "code",
        "colab": {}
      },
      "source": [
        "# considered_file = list(uploaded.keys())[2]\n",
        "considered_file = 'indoor_1.npy'\n",
        "gmap = np.load('/content/' + considered_file)"
      ],
      "execution_count": 0,
      "outputs": []
    },
    {
      "cell_type": "code",
      "metadata": {
        "id": "aoFnQMwYEm0r",
        "colab_type": "code",
        "outputId": "cb0958f5-d3dd-4ec0-adae-92a41a039b77",
        "colab": {
          "base_uri": "https://localhost:8080/",
          "height": 70
        }
      },
      "source": [
        "grid_resolution = 0.05\n",
        "colormap = plt.get_cmap('jet')\n",
        "\n",
        "color_old_unknown = -1\n",
        "color_old_known = 0\n",
        "color_old_obstacle = 100\n",
        "\n",
        "if colormap == None or colormap.name == 'viridis':\n",
        "  color_unknown = -80\n",
        "  color_known = 0\n",
        "  color_obstacle = 150\n",
        "  color_target = 200\n",
        "  color_robot = -60\n",
        "  color_other = 180\n",
        "elif colormap.name == 'jet':\n",
        "  color_unknown = -100\n",
        "  color_known = -50\n",
        "  color_obstacle = 80\n",
        "  color_target = 1\n",
        "  color_robot = 100\n",
        "  color_other = 30\n",
        "\n",
        "def get_drawable_map(grid, target_pose = None, target_dim = 0.15, robot_pose = None, other_poses = []):\n",
        "\n",
        "    drawable_map = np.copy(grid)\n",
        "    drawable_map[drawable_map == color_old_unknown] = color_unknown # recoloring unknown\n",
        "    drawable_map[drawable_map == color_old_known] = color_known # recoloring known\n",
        "    drawable_map[drawable_map == color_old_obstacle] = color_obstacle # recoloring obstacles\n",
        "    \n",
        "    if other_poses != None and len(other_poses) > 0:\n",
        "      other_dim = 4\n",
        "      for i, pose in enumerate(other_poses):\n",
        "        if(pose != None):\n",
        "          other_x, other_y = odom_to_grid(pose)\n",
        "          cols_index = slice(other_x - (other_dim//2), other_x + (other_dim//2) + 1)\n",
        "          rows_index = slice(other_y - (other_dim//2), other_y + (other_dim//2) + 1)\n",
        "          drawable_map[rows_index, cols_index] = color_other # recoloring other\n",
        "\n",
        "    if robot_pose != None:\n",
        "      robot_dim = 6\n",
        "      robot_x, robot_y = odom_to_grid(robot_pose)\n",
        "      cols_index = slice(robot_x - (robot_dim//2), robot_x + (robot_dim//2) + 1)\n",
        "      rows_index = slice(robot_y - (robot_dim//2), robot_y + (robot_dim//2) + 1)\n",
        "      drawable_map[rows_index, cols_index] = color_robot # recoloring robot\n",
        "      \n",
        "    if target_pose != None:\n",
        "      target_dim = np.maximum(4, np.ceil(target_dim / grid_resolution).astype(int))\n",
        "      target_x, target_y = odom_to_grid(target_pose)\n",
        "      cols_index = slice(target_x - (target_dim//2), target_x + (target_dim//2) + 1)\n",
        "      rows_index = slice(target_y - (target_dim//2), target_y + (target_dim//2) + 1)\n",
        "      drawable_map[rows_index, cols_index] = color_target # recoloring target\n",
        "\n",
        "    return drawable_map\n",
        "\n",
        "\n",
        "def odom_to_grid(odom):\n",
        "    x_grid = round(odom[0] / grid_resolution) + 200\n",
        "    y_grid = round(odom[1] / grid_resolution) + 200\n",
        "    return int(x_grid), int(y_grid)\n",
        "\n",
        "def grid_to_odom(grid):\n",
        "    x_odom = (grid[0] - 200) * grid_resolution\n",
        "    y_odom = (grid[1] - 200) * grid_resolution\n",
        "    return x_odom, y_odom\n",
        "\n",
        "\n",
        "i1, i2 = 0.024, 1.076\n",
        "g1, g2 = odom_to_grid((i1, i2))\n",
        "o1, o2 = grid_to_odom((g1, g2))\n",
        "\n",
        "print('actual \\t', i1, i2)\n",
        "print('grid \\t', g1, g2)\n",
        "print('back \\t', o1, o2)\n",
        "np.testing.assert_allclose(i1, o1, atol=grid_resolution/2)\n",
        "np.testing.assert_allclose(i2, o2, atol=grid_resolution/2)"
      ],
      "execution_count": 0,
      "outputs": [
        {
          "output_type": "stream",
          "text": [
            "actual \t 0.024 1.076\n",
            "grid \t 200 222\n",
            "back \t 0.0 1.1\n"
          ],
          "name": "stdout"
        }
      ]
    },
    {
      "cell_type": "code",
      "metadata": {
        "id": "rj2ra9FXapc7",
        "colab_type": "code",
        "outputId": "e31e5322-d308-4537-fe70-7ba6299e41b2",
        "colab": {
          "base_uri": "https://localhost:8080/",
          "height": 568
        }
      },
      "source": [
        "plt.figure(figsize = (4,4))\n",
        "plt.grid()\n",
        "plt.title('NOTE: bad color for unknowns and target')\n",
        "plt.imshow(gmap, interpolation='nearest', origin='lower')\n",
        "\n",
        "plt.figure(figsize = (4,5))\n",
        "plt.grid()\n",
        "plt.title('ADJUSTED MAP for ' + considered_file)\n",
        "plt.imshow(get_drawable_map(gmap, (5, 5), 0.4), interpolation='nearest', origin='lower', cmap=colormap)"
      ],
      "execution_count": 0,
      "outputs": [
        {
          "output_type": "execute_result",
          "data": {
            "text/plain": [
              "<matplotlib.image.AxesImage at 0x7f91df960128>"
            ]
          },
          "metadata": {
            "tags": []
          },
          "execution_count": 4
        },
        {
          "output_type": "display_data",
          "data": {
            "image/png": "[encoded data removed]",
            "text/plain": [
              "<Figure size 288x288 with 1 Axes>"
            ]
          },
          "metadata": {
            "tags": [],
            "needs_background": "light"
          }
        },
        {
          "output_type": "display_data",
          "data": {
            "image/png": "[encoded data removed]",
            "text/plain": [
              "<Figure size 288x360 with 1 Axes>"
            ]
          },
          "metadata": {
            "tags": [],
            "needs_background": "light"
          }
        }
      ]
    },
    {
      "cell_type": "markdown",
      "metadata": {
        "id": "LmUgbjjZ3b3r",
        "colab_type": "text"
      },
      "source": [
        "### Demo"
      ]
    },
    {
      "cell_type": "code",
      "metadata": {
        "id": "BBXrYaO2LmZc",
        "colab_type": "code",
        "colab": {}
      },
      "source": [
        "# easy1 target (x,y): (0.636197328568,-0.817661881447)\n",
        "# easy2 target (x,y): (2.61609911919,3.43398237228)\n",
        "# easy3 target (x,y): "
      ],
      "execution_count": 0,
      "outputs": []
    },
    {
      "cell_type": "code",
      "metadata": {
        "id": "8J_NNdP_XMjn",
        "colab_type": "code",
        "outputId": "c2f7c573-cd48-4b79-c56c-4c943098eb0a",
        "colab": {
          "base_uri": "https://localhost:8080/",
          "height": 610
        }
      },
      "source": [
        "plt.figure(figsize = (10,10))\n",
        "plt.grid()\n",
        "tmp_map = get_drawable_map(gmap, target_pose=(-3.8,0), robot_pose=(0,0), other_poses=[(1,1)])\n",
        "plt.imshow(tmp_map, interpolation='nearest', origin='lower', cmap=colormap)"
      ],
      "execution_count": 0,
      "outputs": [
        {
          "output_type": "execute_result",
          "data": {
            "text/plain": [
              "<matplotlib.image.AxesImage at 0x7f91df9f80f0>"
            ]
          },
          "metadata": {
            "tags": []
          },
          "execution_count": 6
        },
        {
          "output_type": "display_data",
          "data": {
            "image/png": "[encoded data removed]",
            "text/plain": [
              "<Figure size 720x720 with 1 Axes>"
            ]
          },
          "metadata": {
            "tags": [],
            "needs_background": "light"
          }
        }
      ]
    },
    {
      "cell_type": "markdown",
      "metadata": {
        "id": "rN2Ke8v3-2z2",
        "colab_type": "text"
      },
      "source": [
        "## Obstacle avoidance"
      ]
    },
    {
      "cell_type": "code",
      "metadata": {
        "id": "toJYKkMt_RVd",
        "colab_type": "code",
        "colab": {}
      },
      "source": [
        "robot_width = 0.20 # meters\n",
        "\n",
        "\n",
        "def pose_ahead(x, y, theta, meters_ahead = 0.05):\n",
        "  ahead_x = meters_ahead * np.cos(theta) + x\n",
        "  ahead_y = meters_ahead * np.sin(theta) + y\n",
        "  return ahead_x, ahead_y\n",
        "\n",
        "\n",
        "def has_facing_obstacle(grid, x, y, theta, step = grid_resolution, robot_visibility = 1.2, robot_width = 0.20):\n",
        "\n",
        "  obstacle_facing = False\n",
        "  obstacle_distance = None\n",
        "  obstacle_odom = None\n",
        "\n",
        "  adjacent_cells = np.ceil(robot_width/step/2).astype(int)\n",
        "  theta_orthogonal = theta + np.pi/2\n",
        "\n",
        "  for i in range(int(robot_visibility//step)):\n",
        "\n",
        "    distance = step * i\n",
        "    ahead_odom = pose_ahead(x, y, theta, distance)\n",
        "    ahead_grid = odom_to_grid(ahead_odom)\n",
        "\n",
        "    if grid[ahead_grid[::-1]] == 100:\n",
        "      obstacle_facing = True\n",
        "    else:\n",
        "      ahead_grid_near = []\n",
        "      for j in range(1, adjacent_cells + 1):\n",
        "        l = odom_to_grid(pose_ahead(ahead_odom[0], ahead_odom[1], theta_orthogonal, j *  0.05))\n",
        "        r = odom_to_grid(pose_ahead(ahead_odom[0], ahead_odom[1], theta_orthogonal, j * -0.05))\n",
        "        ahead_grid_near.append(l)\n",
        "        ahead_grid_near.append(r)\n",
        "      \n",
        "      ahead_grid_near = list(set(ahead_grid_near))\n",
        "      # print('grid:', ahead_grid, '\\t adj:', ahead_grid_list, '\\t odom:', ahead_odom)\n",
        "\n",
        "      for j in range(len(ahead_grid_near)):\n",
        "        if grid[ahead_grid_near[j][::-1]] == 100: \n",
        "          obstacle_facing = True\n",
        "          break\n",
        "\n",
        "    if obstacle_facing:\n",
        "      obstacle_distance = distance\n",
        "      obstacle_odom = ahead_odom\n",
        "      break\n",
        "\n",
        "  return obstacle_facing, obstacle_distance, obstacle_odom\n",
        "\n",
        "\n",
        "def draw_circle(angle):\n",
        "  fig, ax = plt.subplots()\n",
        "  fig.set_size_inches(3,3)\n",
        "  ax.set_xlim(-1.1,1.1)\n",
        "  ax.set_ylim(-1.1,1.1)\n",
        "  ax.grid()\n",
        "  ax.axhline(y=0, color='k')\n",
        "  ax.axvline(x=0, color='k')\n",
        "  ax.add_patch(plt.Circle((0, 0), 1, color='r', fill=False))\n",
        "  ax.plot(np.cos(angle), np.sin(angle), 'bo')"
      ],
      "execution_count": 0,
      "outputs": []
    },
    {
      "cell_type": "markdown",
      "metadata": {
        "id": "Ut2od5XyDTYC",
        "colab_type": "text"
      },
      "source": [
        "### Random exploration controller\n",
        "\n",
        "The robot sees `robot_visibility` meters in front of itself.\n",
        "\n",
        "- If no obstacle is present in front of the robot, it goes straight ahead until an obstacle is reached.\n",
        "- As soon as an obstacle perfectly facing the robot is reached (also the robot widht is considered here), it will turn around by looking for the best way to follow, computing the best rotation direction based on the distance with obstacles at the left and at the right.\n",
        "- If the robot get stucked in a situation where it cannot avoid the obstacles by just slighlty rotating from its current orientation, then a random `theta` is computed for the next move. \n"
      ]
    },
    {
      "cell_type": "code",
      "metadata": {
        "id": "jRzffaf9-6BD",
        "colab_type": "code",
        "colab": {}
      },
      "source": [
        "from IPython.display import clear_output\n",
        "\n",
        "\n",
        "def controller(grid, current_x, current_y, current_theta, step = 0.1, obs_stucked_max = 8):\n",
        "  obs_count = 0\n",
        "\n",
        "  while True:\n",
        "    clear_output(wait=True)\n",
        "\n",
        "    # draw current situation\n",
        "    draw_circle(current_theta)\n",
        "    obs_present, obs_dist, obs_odom = has_facing_obstacle(grid, current_x, current_y, current_theta)\n",
        "    plt.figure(figsize = (10,10))\n",
        "    plt.grid()\n",
        "    plt.imshow(get_drawable_map(grid, target_pose=(5,7), robot_pose=(current_x, current_y), other_poses=[obs_odom]), interpolation='nearest', origin='lower', cmap=colormap)\n",
        "    plt.pause(0.3)\n",
        "\n",
        "    if(not obs_present): # movement ahead\n",
        "      obs_count = 0\n",
        "      current_x, current_y = pose_ahead(current_x, current_y, current_theta, meters_ahead=step) # publish linear velocity here\n",
        "\n",
        "    else: # look for a free path by turning around\n",
        "      obs_count += 1\n",
        "      if obs_count > obs_stucked_max: # prevent the robot to be stucked in trying the same orientations over and over\n",
        "        current_theta += np.deg2rad(np.random.uniform(-130, 130))\n",
        "\n",
        "      # evaluating left and right side of the robot to choose the turning direction\n",
        "      left_distances = []\n",
        "      right_distances = []\n",
        "      for i in range(1, 45, 5):\n",
        "        _, dist_left, _ = has_facing_obstacle(grid, current_x, current_y, current_theta + np.deg2rad(i), robot_visibility=2.)\n",
        "        _, dist_right, _ = has_facing_obstacle(grid, current_x, current_y, current_theta - np.deg2rad(i), robot_visibility=2.)\n",
        "        left_distances.append(dist_left or 4)\n",
        "        right_distances.append(dist_right or 4)\n",
        "\n",
        "      # once both sides are evaluated, the robot tries to turn the preferred way for finding a free path\n",
        "      previous_obs_dist = 0\n",
        "      deg_delta = 5 if np.mean(left_distances) > np.mean(right_distances) else -5\n",
        "      while obs_present and obs_dist * 1.8 >= previous_obs_dist: # allows to take still-blocked ways that are better than before\n",
        "        previous_obs_dist = obs_dist\n",
        "        current_theta += np.deg2rad(deg_delta) # step-by-step research (could be improved by adding decay on `deg_delta`)\n",
        "        obs_present, obs_dist, obs_odom = has_facing_obstacle(grid, current_x, current_y, current_theta)\n",
        "\n",
        "\n",
        "\n",
        "\n",
        "start_x, start_y = 0, 1\n",
        "start_theta = np.pi/2\n",
        "\n",
        "controller(gmap, start_x, start_y, start_theta)"
      ],
      "execution_count": 0,
      "outputs": []
    },
    {
      "cell_type": "markdown",
      "metadata": {
        "id": "pJA3BJlBdIuN",
        "colab_type": "text"
      },
      "source": [
        "## Path Planning"
      ]
    },
    {
      "cell_type": "code",
      "metadata": {
        "id": "PhW7Hgq_I_nN",
        "colab_type": "code",
        "colab": {}
      },
      "source": [
        "import math\n",
        "\n",
        "def euclidean_distance_tuple(current_pose, target_pose):\n",
        "  return math.sqrt(math.pow((target_pose[0] - current_pose[0]), 2) +\n",
        "\t\t\t\t\t          math.pow((target_pose[1] - current_pose[1]), 2))\n",
        "\n",
        "\n",
        "class GraphNode:\n",
        "  def __init__(self, pose, g_score, prev_node_pose, goal_pose):\n",
        "    self.pose = pose\n",
        "    self.g_score = g_score # actual cost\n",
        "    self.h_score = 0 if goal_pose == None else euclidean_distance_tuple(self.pose, goal_pose) # heuristic cost\n",
        "    self.prev_node_pose = prev_node_pose\n",
        "\n",
        "  def f_score(self):\n",
        "    return self.g_score + self.h_score # priority cost\n",
        "\n",
        "  def __str__(self):\n",
        "    return str(self.pose) + \", g:\" + str(self.g_score) + \", f:\" + \"{:.3f}\".format(self.f_score()) + \", prev:\" + str(self.prev_node_pose)\n",
        "\n",
        "\n",
        "\n",
        "def get_neighbourhood(grid, grid_pose, robot_width=0.20, grid_resolution=0.05):\n",
        "\n",
        "  # due to the robot width, cells next to the obstacles must be ignored\n",
        "  collision_cells = np.ceil(robot_width/grid_resolution/2).astype(int)\n",
        "\n",
        "  nrows = grid.shape[0]\n",
        "  ncols = grid.shape[1]\n",
        "  row = grid_pose[1] # y=row\n",
        "  col = grid_pose[0] # x=col\n",
        "  neighbourhood = []\n",
        "\n",
        "  # When reading this code, please remember that while pose is expressed as (X,Y),\n",
        "  # the matrix indexing for `grid` is instead to be done as (Y,X).\n",
        "  # Moreover, the Y is flipped in the map (see images above), then for moving the\n",
        "  # robot UP we actually need to increment Y (rows index + 1)\n",
        "  # instead of decreasing it (such as it would happen in a normal matrix).\n",
        "\n",
        "  if col > 0 and grid[row, col - min(col, collision_cells)] != color_old_obstacle:\n",
        "    neighbourhood.append((col - 1, row)) # left\n",
        "  if col < ncols - 1 and grid[row, col + min(ncols - col - 1, collision_cells)] != color_old_obstacle:\n",
        "    neighbourhood.append((col + 1, row)) # right\n",
        "\n",
        "  if row > 0 and grid[row - min(row, collision_cells), col] != color_old_obstacle:\n",
        "    neighbourhood.append((col, row - 1)) # down\n",
        "  if row < nrows - 1 and grid[row + min(nrows - row - 1, collision_cells), col] != color_old_obstacle:\n",
        "    neighbourhood.append((col, row + 1)) # up\n",
        "\n",
        "  if col > 0 and row > 0 and grid[row - min(row, collision_cells), col - min(col, collision_cells)] != color_old_obstacle:\n",
        "    neighbourhood.append((col - 1, row - 1)) # diagonal left-down\n",
        "  if col > 0 and row < nrows - 1 and grid[row - min(nrows - row - 1, collision_cells), col - min(col, collision_cells)] != color_old_obstacle:\n",
        "    neighbourhood.append((col - 1, row + 1)) # diagonal left-up\n",
        "\n",
        "  if col < ncols - 1 and row > 0 and grid[row - min(row, collision_cells), col + min(ncols - col - 1, collision_cells)] != color_old_obstacle:\n",
        "    neighbourhood.append((col + 1, row - 1)) # diagonal right-down\n",
        "  if col < ncols - 1 and row < nrows - 1 and grid[row + min(nrows - row - 1, collision_cells), col + min(ncols - col - 1, collision_cells)] != color_old_obstacle:\n",
        "    neighbourhood.append((col + 1, row + 1)) # diagonal right-up\n",
        "\n",
        "  # print(grid_pose, neighbourhood)\n",
        "  return neighbourhood\n",
        "\n",
        "\n",
        "def get_complete_path(nodes_set, node):\n",
        "  path = [node.pose]\n",
        "  while node.prev_node_pose != None:\n",
        "    path.append(node.prev_node_pose)\n",
        "    node = nodes_set[node.prev_node_pose]\n",
        "  return path[::-1]"
      ],
      "execution_count": 0,
      "outputs": []
    },
    {
      "cell_type": "markdown",
      "metadata": {
        "id": "EvixDgokTaOe",
        "colab_type": "text"
      },
      "source": [
        "### A* and Dijkstra algorithms"
      ]
    },
    {
      "cell_type": "code",
      "metadata": {
        "id": "VNw6qmUOTYAe",
        "colab_type": "code",
        "colab": {}
      },
      "source": [
        "def path_planning(grid, start_odom, goal_odom, goal_color = None):\n",
        "  # Applies A* or Dijkstra depending on the fact that `goal_odom` is specified or not\n",
        "\n",
        "  start_grid = odom_to_grid(start_odom)\n",
        "  goal_grid = None if goal_odom == None else odom_to_grid(goal_odom)\n",
        "  \n",
        "  if goal_grid == None and goal_color == None: \n",
        "    raise Exception('You must have either a goal pose or color.')\n",
        "\n",
        "  open_set = dict() # nodes to explore\n",
        "  closed_set = dict() # already explored nodes\n",
        "  \n",
        "  start_node = GraphNode(start_grid, 0, None, goal_grid)\n",
        "  open_set[start_node.pose] = start_node\n",
        "\n",
        "\n",
        "  while len(open_set) > 0:\n",
        "\n",
        "    # get the node with minimum f_score\n",
        "    chosen_idx = min(open_set, key = lambda dict_idx: open_set[dict_idx].f_score()) \n",
        "    current_node = open_set[chosen_idx]\n",
        "    \n",
        "    success = True if goal_grid == None or current_node.pose == goal_grid else False\n",
        "    success = True if success and (goal_color == None or grid[current_node.pose[::-1]] == goal_color) else False\n",
        "\n",
        "    if success: \n",
        "      return [grid_to_odom(p) for p in get_complete_path(closed_set, current_node)] # success: goal reached\n",
        "\n",
        "    del open_set[chosen_idx]\n",
        "    closed_set[chosen_idx] = current_node\n",
        "\n",
        "    neighbourhood = get_neighbourhood(grid, current_node.pose) # list of neighbours poses (tuple)\n",
        "    \n",
        "    for i, neighbour in enumerate(neighbourhood):\n",
        "      \n",
        "      if neighbour in closed_set:\n",
        "          continue # already explored\n",
        "\n",
        "      g_score = current_node.g_score + euclidean_distance_tuple(current_node.pose, neighbour)\n",
        "\n",
        "      if neighbour not in open_set: # new node\n",
        "          open_set[neighbour] = GraphNode(neighbour, g_score, current_node.pose, goal_grid)\n",
        "      \n",
        "      elif open_set[neighbour].g_score > g_score: # best path for reaching the node `neighbour` \n",
        "              open_set[neighbour].g_score = g_score\n",
        "              open_set[neighbour].prev_node_pose = current_node.pose\n",
        "\n",
        "  return None # failure: open_set is empty but goal was never reached"
      ],
      "execution_count": 0,
      "outputs": []
    },
    {
      "cell_type": "markdown",
      "metadata": {
        "id": "0W9a2xNvdPMV",
        "colab_type": "text"
      },
      "source": [
        "### Goal reaching"
      ]
    },
    {
      "cell_type": "code",
      "metadata": {
        "id": "LZUGlksnDY2p",
        "colab_type": "code",
        "outputId": "728c11af-acd6-4673-f1d7-fcc51694b3b4",
        "colab": {
          "base_uri": "https://localhost:8080/",
          "height": 701
        }
      },
      "source": [
        "ip = (0,1)\n",
        "gp = (-3,1)\n",
        "result = path_planning(gmap, ip, gp)\n",
        "print('Init pose: ', ip)\n",
        "print('Goal pose: ', gp)\n",
        "print('Path plan: ', result)\n",
        "print('Path length: ', len(result) if result != None else 0)\n",
        "\n",
        "plt.figure(figsize = (10,10))\n",
        "plt.grid()\n",
        "plt.imshow(get_drawable_map(gmap, target_pose=gp, robot_pose=ip, other_poses=result), interpolation='nearest', origin='lower', cmap=colormap)"
      ],
      "execution_count": 0,
      "outputs": [
        {
          "output_type": "stream",
          "text": [
            "Init pose:  (0, 1)\n",
            "Goal pose:  (-3, 1)\n",
            "Path plan:  [(0.0, 1.0), (-0.05, 0.9500000000000001), (-0.1, 0.9), (-0.15000000000000002, 0.8500000000000001), (-0.2, 0.8), (-0.25, 0.75), (-0.30000000000000004, 0.7000000000000001), (-0.35000000000000003, 0.65), (-0.4, 0.6000000000000001), (-0.45, 0.55), (-0.5, 0.5), (-0.55, 0.45), (-0.6000000000000001, 0.4), (-0.65, 0.35000000000000003), (-0.65, 0.30000000000000004), (-0.7000000000000001, 0.25), (-0.75, 0.2), (-0.8, 0.15000000000000002), (-0.8500000000000001, 0.2), (-0.9, 0.15000000000000002), (-0.9500000000000001, 0.2), (-1.0, 0.25), (-1.05, 0.30000000000000004), (-1.1, 0.35000000000000003), (-1.1500000000000001, 0.4), (-1.2000000000000002, 0.45), (-1.25, 0.5), (-1.3, 0.55), (-1.35, 0.6000000000000001), (-1.4000000000000001, 0.65), (-1.4500000000000002, 0.7000000000000001), (-1.5, 0.75), (-1.55, 0.8), (-1.6, 0.8500000000000001), (-1.6500000000000001, 0.9), (-1.7000000000000002, 0.9500000000000001), (-1.75, 1.0), (-1.8, 1.05), (-1.85, 1.1), (-1.9000000000000001, 1.1500000000000001), (-1.9500000000000002, 1.2000000000000002), (-2.0, 1.25), (-2.0500000000000003, 1.3), (-2.1, 1.35), (-2.15, 1.4000000000000001), (-2.2, 1.4500000000000002), (-2.25, 1.4500000000000002), (-2.3000000000000003, 1.5), (-2.3000000000000003, 1.55), (-2.3000000000000003, 1.6), (-2.35, 1.6), (-2.4000000000000004, 1.6), (-2.45, 1.6), (-2.5, 1.6), (-2.5500000000000003, 1.55), (-2.6, 1.5), (-2.6500000000000004, 1.4500000000000002), (-2.7, 1.4000000000000001), (-2.75, 1.35), (-2.8000000000000003, 1.3), (-2.85, 1.25), (-2.9000000000000004, 1.2000000000000002), (-2.95, 1.1500000000000001), (-2.95, 1.1), (-2.95, 1.05), (-3.0, 1.0)]\n",
            "Path length:  66\n"
          ],
          "name": "stdout"
        },
        {
          "output_type": "execute_result",
          "data": {
            "text/plain": [
              "<matplotlib.image.AxesImage at 0x7f91db5d4cf8>"
            ]
          },
          "metadata": {
            "tags": []
          },
          "execution_count": 70
        },
        {
          "output_type": "display_data",
          "data": {
            "image/png": "[encoded data removed]",
            "text/plain": [
              "<Figure size 720x720 with 1 Axes>"
            ]
          },
          "metadata": {
            "tags": [],
            "needs_background": "light"
          }
        }
      ]
    },
    {
      "cell_type": "markdown",
      "metadata": {
        "id": "JpZWR3w8Iz_3",
        "colab_type": "text"
      },
      "source": [
        "### Looking for unknown areas"
      ]
    },
    {
      "cell_type": "code",
      "metadata": {
        "id": "3WC0TZGLKyy0",
        "colab_type": "code",
        "outputId": "7eafaa4a-3ae8-4409-e45c-1f2fb30b1f72",
        "colab": {
          "base_uri": "https://localhost:8080/",
          "height": 683
        }
      },
      "source": [
        "ip = (0.5,-0.5)\n",
        "result = path_planning(gmap, ip, None, -1)\n",
        "print('Init pose: ', ip)\n",
        "print('Path plan: ', result)\n",
        "print('Path length: ', len(result) if result != None else 0)\n",
        "\n",
        "plt.figure(figsize = (10,10))\n",
        "plt.grid()\n",
        "plt.imshow(get_drawable_map(gmap, target_pose=gp, robot_pose=ip, other_poses=result), interpolation='nearest', origin='lower', cmap=colormap)"
      ],
      "execution_count": 0,
      "outputs": [
        {
          "output_type": "stream",
          "text": [
            "Init pose:  (0.5, -0.5)\n",
            "Path plan:  [(0.5, -0.5), (0.45, -0.5), (0.4, -0.5), (0.35000000000000003, -0.5), (0.30000000000000004, -0.5), (0.25, -0.5), (0.2, -0.5), (0.15000000000000002, -0.55), (0.1, -0.6000000000000001), (0.05, -0.6000000000000001), (0.0, -0.6000000000000001), (-0.05, -0.6000000000000001), (-0.1, -0.6000000000000001), (-0.15000000000000002, -0.6000000000000001), (-0.2, -0.6000000000000001), (-0.25, -0.6000000000000001), (-0.30000000000000004, -0.65), (-0.35000000000000003, -0.65), (-0.4, -0.65), (-0.45, -0.65), (-0.5, -0.65), (-0.55, -0.65), (-0.6000000000000001, -0.65), (-0.65, -0.65), (-0.7000000000000001, -0.65), (-0.75, -0.65), (-0.8, -0.65), (-0.8500000000000001, -0.65), (-0.9, -0.65), (-0.9500000000000001, -0.65), (-1.0, -0.65), (-1.05, -0.7000000000000001), (-1.1, -0.75), (-1.1500000000000001, -0.8), (-1.2000000000000002, -0.8500000000000001), (-1.25, -0.9), (-1.3, -0.9500000000000001), (-1.35, -1.0), (-1.4000000000000001, -1.05), (-1.4500000000000002, -1.1), (-1.4500000000000002, -1.1500000000000001), (-1.4500000000000002, -1.2000000000000002), (-1.4500000000000002, -1.25), (-1.4000000000000001, -1.3), (-1.35, -1.35), (-1.3, -1.4000000000000001)]\n",
            "Path length:  46\n"
          ],
          "name": "stdout"
        },
        {
          "output_type": "execute_result",
          "data": {
            "text/plain": [
              "<matplotlib.image.AxesImage at 0x7f91db2d9a90>"
            ]
          },
          "metadata": {
            "tags": []
          },
          "execution_count": 79
        },
        {
          "output_type": "display_data",
          "data": {
            "image/png": "[encoded data removed]",
            "text/plain": [
              "<Figure size 720x720 with 1 Axes>"
            ]
          },
          "metadata": {
            "tags": [],
            "needs_background": "light"
          }
        }
      ]
    },
    {
      "cell_type": "code",
      "metadata": {
        "id": "uJsBZ3GWVlcS",
        "colab_type": "code",
        "colab": {}
      },
      "source": [
        ""
      ],
      "execution_count": 0,
      "outputs": []
    }
  ]
}